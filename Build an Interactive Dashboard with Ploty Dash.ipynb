{
 "cells": [
  {
   "cell_type": "code",
   "execution_count": 1,
   "id": "96d9c1f0",
   "metadata": {},
   "outputs": [
    {
     "name": "stdout",
     "output_type": "stream",
     "text": [
      "Requirement already satisfied: dash==1.19.0 in /usr/local/anaconda3/lib/python3.9/site-packages (1.19.0)\n",
      "Requirement already satisfied: dash-table==4.11.2 in /usr/local/anaconda3/lib/python3.9/site-packages (from dash==1.19.0) (4.11.2)\n",
      "Requirement already satisfied: plotly in /usr/local/anaconda3/lib/python3.9/site-packages (from dash==1.19.0) (5.4.0)\n",
      "Requirement already satisfied: Flask>=1.0.4 in /usr/local/anaconda3/lib/python3.9/site-packages (from dash==1.19.0) (1.1.2)\n",
      "Requirement already satisfied: dash-html-components==1.1.2 in /usr/local/anaconda3/lib/python3.9/site-packages (from dash==1.19.0) (1.1.2)\n",
      "Requirement already satisfied: dash-core-components==1.15.0 in /usr/local/anaconda3/lib/python3.9/site-packages (from dash==1.19.0) (1.15.0)\n",
      "Requirement already satisfied: dash-renderer==1.9.0 in /usr/local/anaconda3/lib/python3.9/site-packages (from dash==1.19.0) (1.9.0)\n",
      "Requirement already satisfied: future in /usr/local/anaconda3/lib/python3.9/site-packages (from dash==1.19.0) (0.18.2)\n",
      "Requirement already satisfied: flask-compress in /usr/local/anaconda3/lib/python3.9/site-packages (from dash==1.19.0) (1.10.1)\n",
      "Requirement already satisfied: Jinja2>=2.10.1 in /usr/local/anaconda3/lib/python3.9/site-packages (from Flask>=1.0.4->dash==1.19.0) (2.11.3)\n",
      "Requirement already satisfied: click>=5.1 in /usr/local/anaconda3/lib/python3.9/site-packages (from Flask>=1.0.4->dash==1.19.0) (8.0.3)\n",
      "Requirement already satisfied: Werkzeug>=0.15 in /usr/local/anaconda3/lib/python3.9/site-packages (from Flask>=1.0.4->dash==1.19.0) (2.0.2)\n",
      "Requirement already satisfied: itsdangerous>=0.24 in /usr/local/anaconda3/lib/python3.9/site-packages (from Flask>=1.0.4->dash==1.19.0) (2.0.1)\n",
      "Requirement already satisfied: MarkupSafe>=0.23 in /usr/local/anaconda3/lib/python3.9/site-packages (from Jinja2>=2.10.1->Flask>=1.0.4->dash==1.19.0) (1.1.1)\n",
      "Requirement already satisfied: brotli in /usr/local/anaconda3/lib/python3.9/site-packages (from flask-compress->dash==1.19.0) (1.0.9)\n",
      "Requirement already satisfied: tenacity>=6.2.0 in /usr/local/anaconda3/lib/python3.9/site-packages (from plotly->dash==1.19.0) (8.0.1)\n",
      "Requirement already satisfied: six in /usr/local/anaconda3/lib/python3.9/site-packages (from plotly->dash==1.19.0) (1.16.0)\n"
     ]
    }
   ],
   "source": [
    "!pip install dash==1.19.0  "
   ]
  },
  {
   "cell_type": "code",
   "execution_count": 2,
   "id": "8727ec4c",
   "metadata": {},
   "outputs": [
    {
     "name": "stdout",
     "output_type": "stream",
     "text": [
      "Requirement already satisfied: jupyter_dash in /usr/local/anaconda3/lib/python3.9/site-packages (0.4.0)\n",
      "Requirement already satisfied: retrying in /usr/local/anaconda3/lib/python3.9/site-packages (from jupyter_dash) (1.3.3)\n",
      "Requirement already satisfied: ansi2html in /usr/local/anaconda3/lib/python3.9/site-packages (from jupyter_dash) (1.6.0)\n",
      "Requirement already satisfied: ipython in /usr/local/anaconda3/lib/python3.9/site-packages (from jupyter_dash) (7.29.0)\n",
      "Requirement already satisfied: ipykernel in /usr/local/anaconda3/lib/python3.9/site-packages (from jupyter_dash) (6.4.1)\n",
      "Requirement already satisfied: dash in /usr/local/anaconda3/lib/python3.9/site-packages (from jupyter_dash) (1.19.0)\n",
      "Requirement already satisfied: flask in /usr/local/anaconda3/lib/python3.9/site-packages (from jupyter_dash) (1.1.2)\n",
      "Requirement already satisfied: requests in /usr/local/anaconda3/lib/python3.9/site-packages (from jupyter_dash) (2.26.0)\n",
      "Requirement already satisfied: flask-compress in /usr/local/anaconda3/lib/python3.9/site-packages (from dash->jupyter_dash) (1.10.1)\n",
      "Requirement already satisfied: dash-renderer==1.9.0 in /usr/local/anaconda3/lib/python3.9/site-packages (from dash->jupyter_dash) (1.9.0)\n",
      "Requirement already satisfied: dash-html-components==1.1.2 in /usr/local/anaconda3/lib/python3.9/site-packages (from dash->jupyter_dash) (1.1.2)\n",
      "Requirement already satisfied: future in /usr/local/anaconda3/lib/python3.9/site-packages (from dash->jupyter_dash) (0.18.2)\n",
      "Requirement already satisfied: dash-table==4.11.2 in /usr/local/anaconda3/lib/python3.9/site-packages (from dash->jupyter_dash) (4.11.2)\n",
      "Requirement already satisfied: plotly in /usr/local/anaconda3/lib/python3.9/site-packages (from dash->jupyter_dash) (5.4.0)\n",
      "Requirement already satisfied: dash-core-components==1.15.0 in /usr/local/anaconda3/lib/python3.9/site-packages (from dash->jupyter_dash) (1.15.0)\n",
      "Requirement already satisfied: Werkzeug>=0.15 in /usr/local/anaconda3/lib/python3.9/site-packages (from flask->jupyter_dash) (2.0.2)\n",
      "Requirement already satisfied: itsdangerous>=0.24 in /usr/local/anaconda3/lib/python3.9/site-packages (from flask->jupyter_dash) (2.0.1)\n",
      "Requirement already satisfied: Jinja2>=2.10.1 in /usr/local/anaconda3/lib/python3.9/site-packages (from flask->jupyter_dash) (2.11.3)\n",
      "Requirement already satisfied: click>=5.1 in /usr/local/anaconda3/lib/python3.9/site-packages (from flask->jupyter_dash) (8.0.3)\n",
      "Requirement already satisfied: MarkupSafe>=0.23 in /usr/local/anaconda3/lib/python3.9/site-packages (from Jinja2>=2.10.1->flask->jupyter_dash) (1.1.1)\n",
      "Requirement already satisfied: brotli in /usr/local/anaconda3/lib/python3.9/site-packages (from flask-compress->dash->jupyter_dash) (1.0.9)\n",
      "Requirement already satisfied: ipython-genutils in /usr/local/anaconda3/lib/python3.9/site-packages (from ipykernel->jupyter_dash) (0.2.0)\n",
      "Requirement already satisfied: jupyter-client<8.0 in /usr/local/anaconda3/lib/python3.9/site-packages (from ipykernel->jupyter_dash) (6.1.12)\n",
      "Requirement already satisfied: debugpy<2.0,>=1.0.0 in /usr/local/anaconda3/lib/python3.9/site-packages (from ipykernel->jupyter_dash) (1.4.1)\n",
      "Requirement already satisfied: appnope in /usr/local/anaconda3/lib/python3.9/site-packages (from ipykernel->jupyter_dash) (0.1.2)\n",
      "Requirement already satisfied: matplotlib-inline<0.2.0,>=0.1.0 in /usr/local/anaconda3/lib/python3.9/site-packages (from ipykernel->jupyter_dash) (0.1.2)\n",
      "Requirement already satisfied: traitlets<6.0,>=4.1.0 in /usr/local/anaconda3/lib/python3.9/site-packages (from ipykernel->jupyter_dash) (5.1.0)\n",
      "Requirement already satisfied: tornado<7.0,>=4.2 in /usr/local/anaconda3/lib/python3.9/site-packages (from ipykernel->jupyter_dash) (6.1)\n",
      "Requirement already satisfied: setuptools>=18.5 in /usr/local/anaconda3/lib/python3.9/site-packages (from ipython->jupyter_dash) (58.0.4)\n",
      "Requirement already satisfied: pickleshare in /usr/local/anaconda3/lib/python3.9/site-packages (from ipython->jupyter_dash) (0.7.5)\n",
      "Requirement already satisfied: backcall in /usr/local/anaconda3/lib/python3.9/site-packages (from ipython->jupyter_dash) (0.2.0)\n",
      "Requirement already satisfied: jedi>=0.16 in /usr/local/anaconda3/lib/python3.9/site-packages (from ipython->jupyter_dash) (0.18.0)\n",
      "Requirement already satisfied: pexpect>4.3 in /usr/local/anaconda3/lib/python3.9/site-packages (from ipython->jupyter_dash) (4.8.0)\n",
      "Requirement already satisfied: prompt-toolkit!=3.0.0,!=3.0.1,<3.1.0,>=2.0.0 in /usr/local/anaconda3/lib/python3.9/site-packages (from ipython->jupyter_dash) (3.0.20)\n",
      "Requirement already satisfied: pygments in /usr/local/anaconda3/lib/python3.9/site-packages (from ipython->jupyter_dash) (2.10.0)\n",
      "Requirement already satisfied: decorator in /usr/local/anaconda3/lib/python3.9/site-packages (from ipython->jupyter_dash) (5.1.0)\n",
      "Requirement already satisfied: parso<0.9.0,>=0.8.0 in /usr/local/anaconda3/lib/python3.9/site-packages (from jedi>=0.16->ipython->jupyter_dash) (0.8.2)\n",
      "Requirement already satisfied: jupyter-core>=4.6.0 in /usr/local/anaconda3/lib/python3.9/site-packages (from jupyter-client<8.0->ipykernel->jupyter_dash) (4.8.1)\n",
      "Requirement already satisfied: pyzmq>=13 in /usr/local/anaconda3/lib/python3.9/site-packages (from jupyter-client<8.0->ipykernel->jupyter_dash) (22.2.1)\n",
      "Requirement already satisfied: python-dateutil>=2.1 in /usr/local/anaconda3/lib/python3.9/site-packages (from jupyter-client<8.0->ipykernel->jupyter_dash) (2.8.2)\n",
      "Requirement already satisfied: ptyprocess>=0.5 in /usr/local/anaconda3/lib/python3.9/site-packages (from pexpect>4.3->ipython->jupyter_dash) (0.7.0)\n",
      "Requirement already satisfied: wcwidth in /usr/local/anaconda3/lib/python3.9/site-packages (from prompt-toolkit!=3.0.0,!=3.0.1,<3.1.0,>=2.0.0->ipython->jupyter_dash) (0.2.5)\n",
      "Requirement already satisfied: six>=1.5 in /usr/local/anaconda3/lib/python3.9/site-packages (from python-dateutil>=2.1->jupyter-client<8.0->ipykernel->jupyter_dash) (1.16.0)\n",
      "Requirement already satisfied: tenacity>=6.2.0 in /usr/local/anaconda3/lib/python3.9/site-packages (from plotly->dash->jupyter_dash) (8.0.1)\n",
      "Requirement already satisfied: certifi>=2017.4.17 in /usr/local/anaconda3/lib/python3.9/site-packages (from requests->jupyter_dash) (2021.10.8)\n",
      "Requirement already satisfied: urllib3<1.27,>=1.21.1 in /usr/local/anaconda3/lib/python3.9/site-packages (from requests->jupyter_dash) (1.26.7)\n",
      "Requirement already satisfied: idna<4,>=2.5 in /usr/local/anaconda3/lib/python3.9/site-packages (from requests->jupyter_dash) (3.2)\n",
      "Requirement already satisfied: charset-normalizer~=2.0.0 in /usr/local/anaconda3/lib/python3.9/site-packages (from requests->jupyter_dash) (2.0.4)\n"
     ]
    }
   ],
   "source": [
    "!pip install jupyter_dash "
   ]
  },
  {
   "cell_type": "code",
   "execution_count": 3,
   "id": "c02a7835",
   "metadata": {},
   "outputs": [
    {
     "name": "stdout",
     "output_type": "stream",
     "text": [
      "Requirement already satisfied: plotly in /usr/local/anaconda3/lib/python3.9/site-packages (5.4.0)\n",
      "Requirement already satisfied: six in /usr/local/anaconda3/lib/python3.9/site-packages (from plotly) (1.16.0)\n",
      "Requirement already satisfied: tenacity>=6.2.0 in /usr/local/anaconda3/lib/python3.9/site-packages (from plotly) (8.0.1)\n"
     ]
    }
   ],
   "source": [
    "!pip install --upgrade plotly"
   ]
  },
  {
   "cell_type": "code",
   "execution_count": 4,
   "id": "2bebb258",
   "metadata": {},
   "outputs": [],
   "source": [
    "from jupyter_dash.comms import _send_jupyter_config_comm_request\n",
    "_send_jupyter_config_comm_request()"
   ]
  },
  {
   "cell_type": "code",
   "execution_count": 5,
   "id": "88d19008",
   "metadata": {},
   "outputs": [],
   "source": [
    "import pandas as pd\n",
    "import dash\n",
    "import dash_html_components as html\n",
    "import dash_core_components as dcc\n",
    "from dash.dependencies import Input, Output\n",
    "from jupyter_dash import JupyterDash\n",
    "import plotly.graph_objects as go"
   ]
  },
  {
   "cell_type": "code",
   "execution_count": 6,
   "id": "b40fdf3e",
   "metadata": {},
   "outputs": [],
   "source": [
    "# notebook hangs if I run the following command \n",
    "#JupyterDash.infer_jupyter_proxy_config()"
   ]
  },
  {
   "cell_type": "code",
   "execution_count": 7,
   "id": "0122cdeb",
   "metadata": {},
   "outputs": [],
   "source": [
    "# Read the airline data into pandas dataframe\n",
    "spacex_df = pd.read_csv(\"https://cf-courses-data.s3.us.cloud-object-storage.appdomain.cloud/IBM-DS0321EN-SkillsNetwork/datasets/spacex_launch_dash.csv\")"
   ]
  },
  {
   "cell_type": "code",
   "execution_count": 8,
   "id": "65936166",
   "metadata": {},
   "outputs": [],
   "source": [
    "max_payload = spacex_df['Payload Mass (kg)'].max()\n",
    "min_payload = spacex_df['Payload Mass (kg)'].min()"
   ]
  },
  {
   "cell_type": "code",
   "execution_count": 9,
   "id": "bcafeb40",
   "metadata": {},
   "outputs": [],
   "source": [
    "# Create a dash application\n",
    "app = JupyterDash(__name__)\n"
   ]
  },
  {
   "cell_type": "code",
   "execution_count": 10,
   "id": "577d604e",
   "metadata": {},
   "outputs": [],
   "source": [
    "#Create an app layout\n",
    "app.layout = html.Div(children=[html.H1('SpaceX Launch Records Dashboard',\n",
    "                                        style={'textAlign': 'center', 'color': '#503D36',\n",
    "                                               'font-size': 40}),\n",
    "                                # TASK 1: Add a dropdown list to enable Launch Site selection\n",
    "                                # The default select value is for ALL sites\n",
    "                                # dcc.Dropdown(id='site-dropdown',...)\n",
    "                                dcc.Dropdown(id='site-dropdown',\n",
    "                                             options=[\n",
    "                                                     {'label': 'All Sites', 'value': 'ALL'},\n",
    "                                                     {'label': 'CCAFS LC-40', 'value': 'CCAFS LC-40'},\n",
    "                                                     {'label': 'VAFB SLC-4E', 'value': 'VAFB SLC-4E'},\n",
    "                                                     {'label': 'KSC LC-39A', 'value': 'KSC LC-39A'},\n",
    "                                                     {'label': 'CCAFS SLC-40', 'value': 'CCAFS SLC-40'}\n",
    "                                                     ],\n",
    "                                             value='ALL',\n",
    "                                             placeholder='Select a Launch Site here',\n",
    "                                             searchable=True\n",
    "                                             # style={'width':'80%','padding':'3px','font-size':'20px','text-align-last':'center'}\n",
    "                                             ),\n",
    "                                html.Br(),\n",
    "\n",
    "                                # TASK 2: Add a pie chart to show the total successful launches count for all sites\n",
    "                                # If a specific launch site was selected, show the Success vs. Failed counts for the site\n",
    "                                html.Div(dcc.Graph(id='success-pie-chart')),\n",
    "                                html.Br(),\n",
    "\n",
    "                                html.P(\"Payload range (Kg):\"),\n",
    "                                # TASK 3: Add a slider to select payload range\n",
    "                                #dcc.RangeSlider(id='payload-slider',...)\n",
    "                                dcc.RangeSlider(id='payload-slider',\n",
    "                                                min=0,\n",
    "                                                max=10000,\n",
    "                                                step=1000,\n",
    "                                                value=[min_payload, max_payload]\n",
    "                                                ),\n",
    "\n",
    "                                # TASK 4: Add a scatter chart to show the correlation between payload and launch success\n",
    "                                html.Div(dcc.Graph(id='success-payload-scatter-chart')),\n",
    "                                ])\n",
    "# TASK 2:\n",
    "# Add a callback function for `site-dropdown` as input, `success-pie-chart` as output\n",
    "@app.callback(Output(component_id='success-pie-chart', component_property='figure'),\n",
    "              Input(component_id='site-dropdown', component_property='value'))\n",
    "def get_pie_chart(entered_site):\n",
    "    filtered_df = spacex_df\n",
    "    if entered_site == 'ALL':\n",
    "        fig = px.pie(filtered_df, values='class', \n",
    "        names='Launch Site', \n",
    "        title='Success Count for all launch sites')\n",
    "        return fig\n",
    "    else:\n",
    "        # return the outcomes piechart for a selected site\n",
    "        filtered_df=spacex_df[spacex_df['Launch Site']== entered_site]\n",
    "        filtered_df=filtered_df.groupby(['Launch Site','class']).size().reset_index(name='class count')\n",
    "        fig=px.pie(filtered_df,values='class count',names='class',title=f\"Total Success Launches for site {entered_site}\")\n",
    "        return fig\n",
    "# TASK 4:\n",
    "# Add a callback function for `site-dropdown` and `payload-slider` as inputs, `success-payload-scatter-chart` as output\n",
    "@app.callback(Output(component_id='success-payload-scatter-chart',component_property='figure'),\n",
    "                [Input(component_id='site-dropdown',component_property='value'),\n",
    "                Input(component_id='payload-slider',component_property='value')])\n",
    "def scatter(entered_site,payload):\n",
    "    filtered_df = spacex_df[spacex_df['Payload Mass (kg)'].between(payload[0],payload[1])]\n",
    "    # thought reusing filtered_df may cause issues, but tried it out of curiosity and it seems to be working fine\n",
    "    \n",
    "    if entered_site=='ALL':\n",
    "        fig=px.scatter(filtered_df,x='Payload Mass (kg)',y='class',color='Booster Version Category',title='Success count on Payload mass for all sites')\n",
    "        return fig\n",
    "    else:\n",
    "        fig=px.scatter(filtered_df[filtered_df['Launch Site']==entered_site],x='Payload Mass (kg)',y='class',color='Booster Version Category',title=f\"Success count on Payload mass for site {entered_site}\")\n",
    "        return fig"
   ]
  },
  {
   "cell_type": "code",
   "execution_count": 11,
   "id": "1e20046e",
   "metadata": {},
   "outputs": [],
   "source": [
    "# Run the app\n",
    "if __name__ == '__main__':\n",
    "    app.run_server(mode='jupyterlab', port = 8090 ,dev_tools_ui=True, #debug=True,\n",
    "              dev_tools_hot_reload =True, threaded=True)"
   ]
  },
  {
   "cell_type": "code",
   "execution_count": 12,
   "id": "ae7a2c75",
   "metadata": {},
   "outputs": [],
   "source": [
    "#Make these changes execute your code\n",
    "\n",
    "#Later in browser use the url\n",
    "\n",
    "#http://localhost:8090\n",
    "#https://www.coursera.org/learn/applied-data-science-capstone/discussions/weeks/3/threads/zNz3SEIhEey41RIHax-r7Q"
   ]
  }
 ],
 "metadata": {
  "kernelspec": {
   "display_name": "Python 3 (ipykernel)",
   "language": "python",
   "name": "python3"
  },
  "language_info": {
   "codemirror_mode": {
    "name": "ipython",
    "version": 3
   },
   "file_extension": ".py",
   "mimetype": "text/x-python",
   "name": "python",
   "nbconvert_exporter": "python",
   "pygments_lexer": "ipython3",
   "version": "3.9.7"
  }
 },
 "nbformat": 4,
 "nbformat_minor": 5
}
